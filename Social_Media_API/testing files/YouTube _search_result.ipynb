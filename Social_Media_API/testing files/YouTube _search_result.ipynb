{
 "cells": [
  {
   "cell_type": "code",
   "execution_count": 20,
   "metadata": {},
   "outputs": [],
   "source": [
    "import re\n",
    "import csv \n",
    "from getpass import getpass \n",
    "from time import sleep \n",
    "from selenium.webdriver.common.keys import Keys \n",
    "from selenium.common.exceptions import NoSuchElementException \n",
    "import os\n",
    "import selenium\n",
    "import time\n",
    "from PIL import Image\n",
    "import io\n",
    "import requests\n",
    "from webdriver_manager.chrome import ChromeDriverManager\n",
    "from selenium.common.exceptions import ElementClickInterceptedException\n",
    "import pandas as pd\n",
    "from getpass import getpass\n",
    "from time import sleep\n",
    "from selenium import webdriver\n",
    "from selenium.webdriver.common.keys import Keys\n",
    "from selenium.webdriver.support import expected_conditions as EC\n",
    "from selenium.webdriver.common.by import By\n",
    "from selenium.webdriver.support.wait import WebDriverWait\n",
    "import time"
   ]
  },
  {
   "cell_type": "code",
   "execution_count": 21,
   "metadata": {},
   "outputs": [],
   "source": [
    "chrome_options = webdriver.ChromeOptions()\n",
    "prefs = {\"profile.default_content_setting_values.notifications\" : 2}\n",
    "chrome_options.add_experimental_option(\"prefs\",prefs)"
   ]
  },
  {
   "cell_type": "code",
   "execution_count": 22,
   "metadata": {},
   "outputs": [
    {
     "name": "stderr",
     "output_type": "stream",
     "text": [
      "C:\\Users\\Opus\\AppData\\Local\\Temp\\ipykernel_14144\\761934886.py:2: DeprecationWarning: executable_path has been deprecated, please pass in a Service object\n",
      "  driver = webdriver.Chrome('C:/Users/Opus/chromedriver.exe', chrome_options=chrome_options)\n",
      "C:\\Users\\Opus\\AppData\\Local\\Temp\\ipykernel_14144\\761934886.py:2: DeprecationWarning: use options instead of chrome_options\n",
      "  driver = webdriver.Chrome('C:/Users/Opus/chromedriver.exe', chrome_options=chrome_options)\n"
     ]
    }
   ],
   "source": [
    "# create instance of Chrome webdriver\n",
    "driver = webdriver.Chrome('C:/Users/Opus/chromedriver.exe', chrome_options=chrome_options)\n",
    "text= \"mortal kombat 2021 movie\"\n",
    "driver.get('https://www.youtube.com/results?search_query='+ text)"
   ]
  },
  {
   "cell_type": "code",
   "execution_count": 46,
   "metadata": {},
   "outputs": [
    {
     "data": {
      "text/plain": [
       "'3:07:06\\nMORTAL KOMBAT 11 FULL MOVIE (2021) 4K Ultra HD\\n11M views\\n2 years ago\\nlzuniy\\n#MK11 #MortalKombat11 #StoryCutscenes subscribe for the latest PS4, Xbox One and PC, Gameplay, Trailers, Walkthrough and ...\\n4K\\n1:36:47\\nMortal Kombat Legacy English Version\\n2.8M views\\n9 months ago\\nAlexey Alexandrov\\nFull re-edited english version of web-series, for fans) All rights reserved. Warner Bros. (presents) (as Warner Bros. Pictures) ...\\n19:51\\nEvery Fatality in Mortal Kombat 11 Ultimate in 4K\\n9.1M views\\n1 year ago\\nGameSpot Gameplay\\nSince our last fatality roundup, Rain, Rambo, and Mileena have been added to the roster as part of Mortal Kombat 11 Ultimate.\\n4K\\n35:32\\nBANGKIT DARI NERAKA UNTUK BALAS DENDAM || ALUR CERITA FILM M0RT4L K0MB4T 2021\\n3.4M views\\n9 months ago\\nRomie Channel\\nSELAMAT DATANG SEMUA... Terima kasih tak terhingga kepada semua yang selalu memberi support dan masukannya ...\\n4:49 Dia mengambil sisa keturunan Hanzo dari persembunyiannya lalu membawanya pergi dan Mortal Kombat 2021\\nScorpion Vs Sub-Zero Final Battle - Mortal Kombat (2021) Movie CLIP HD\\n158K views\\n5 months ago\\nTheaterclips\\nScorpion Vs Sub-Zero Final Battle - Mortal Kombat (2021) Movie CLIP HD Watch the best Mortal Kombat (2021) scenes & clips: ...\\nMortal Kombat (2021) Film Explained in Hindi/Urdu | Mortal Kombat Reboot Summarized हिन्दी\\n1M views\\n9 months ago\\nMovies Insight Hindi\\nMortal Kombat (2021) Thriller movie explained in Hindi Urdu. The American Action Thriller film \" Mortal Kombat: Reboot” story ...\\nCC\\nMORTAL KOMBAT \"Scorpion VS Sub-Zero\" Opening Scene (2021)\\n33M views\\n9 months ago\\nONE Media\\nMORTAL KOMBAT \"Scorpion VS Sub-Zero Fight\" Opening Scene Clip (2021) © 2021 - Warner.\\nScorpion vs Sub Zero\\n4.2M views\\n8 months ago\\nPopculture Geek\\nThis is the fight scene between Scorpion and Sub-Zero in the new Mortal Kombat movie. Music: The Victory Of Heroes by Shane ...\\nMORTAL KOMBAT Trailer (2021)\\n12M views\\n11 months ago\\nFilmSelect\\nFirst trailer for MORTAL KOMBAT.\\n4K\\nMORTAL KOMBAT X Full Movie Cinematic (2021) All Cinematics 4K ULTRA HD\\n2.8M views\\n11 months ago\\nGameClips\\nMORTAL KOMBAT X Full Movie Cinematic (2021) All Cinematics 4K ULTRA HD New Trailers 2021! Subscribe To Gameclips To ...\\n4K\\nMortal Kombat| Cole Young vs Goro Fight Scene| Movie CLIP 4K| Badass Suit, Dad!!\\n3.4K views\\n5 months ago\\nAll Clips Entertainment\\nCole Young vs Goro Fight Scene (\"Badass Suit, Dad\") Scene From The Movie: \"Mortal Kombat\" (2021) Movie CLIP [4K ULTRA ...\\nTop 10 Mortal Kombat (2021) Scenes\\n2M views\\n9 months ago\\nThe TV Regent\\nAlmost 30 years after the Mortal Kombat series, the franchise is now up for a reboot. So, double the violence, double the action ...\\nPeople also watched\\nMK11 All Fatalities on RoboCop\\n6.3M views\\n8 months ago\\ndeathmule\\nMK11 All Fatalities on RoboCop MORTAL KOMBAT 11 MODS ...\\n4K\\nSub Zero vs Scorpion (2021) - MORTAL KOMBAT 11 Gameplay Style\\n1.6M views\\n7 months ago\\nDzizuru -sama\\nThis is just an edited video, some people assume if this game really exists. I just made an overview of Mortal Kombat 11\\'s ...\\nMK11: Final Kombat SonicFox Vs NinjaKilla (Grand Finals)\\n4.2M views\\n1 year ago\\nSpunz\\nDisclaimer The videos are to educate the viewers on how to improve their own gameplay and teaches the viewers on combos and ...\\nMortal Kombat Legacy Full Movie\\n1.5M views\\n9 months ago\\nAlexey Alexandrov\\nFan made of web-series, i hope you enjoy! All rights reserved Warner Bros. (presents) (as Warner Bros. Pictures) New-Line ...\\n+6 MORE\\nMORTAL KOMBAT Full Movie Complete Saga MK9, MK10, MK11 Ultimate All Cutscenes Full Story 60FPS HD\\n1.8M views\\n1 year ago\\nMKIceAndFire\\nMORTAL KOMBAT Full Movie Complete Saga MK9, MK10, MK11 Ultimate Story All Cutscenes (2020) 60FPS HD Mortal Kombat ...\\nMORTAL KOMBAT 11 Story All Cutscenes Full Movie 2019 [1080p HD] MK11\\n21M views\\n2 years ago\\nMKIceAndFire\\nMortal Kombat 11 Story All Cutscenes Full Movie 2019 MK11 includes all the endings from Mortal Kombat 11 and cinematic game ...\\nThe Mortal Kombat Movie (2021) Is A TRAINWRECK | A Fan\\'s HONEST Review\\n239K views\\n9 months ago\\nBruskPoet\\nA Fan\\'s HONEST Review Of The Mortal Kombat Movie And Why Is SUCKS! Twitch - https://www.twitch.tv/bruskpoetv Twitter ...\\nMORTAL KOMBAT - First 7 Minutes Opening Scene (2021)\\n1.1M views\\n9 months ago\\nKinoCheck.com\\nMortal Kombat (2021) is the new action movie starring Joe Taslim, Ludi Lin and Mehcad Brooks. Note | #MortalKombat #Opening ...\\nMORTAL KOMBAT 11 Full Movie Cinematic (2021) All Cinematics 4K ULTRA HD\\n3.3M views\\n11 months ago\\nGameClips\\nMORTAL KOMBAT 11 Full Movie Cinematic (2021) All Cinematics 4K ULTRA HD New Trailers 2021! Subscribe To Gameclips To ...\\n4K\\nMortal Kombat (2021) KILL COUNT\\n2M views\\n1 month ago\\nDead Meat\\nKill Graphics and Numbers Icons made by Made In Graphics Team: Clara, Allie, and Tyler Dead Meat Podcast (Now back from ...\\nCC\\nMortal Kombat Legacy - All Episodes (Season 1 & Season 2)\\n236K views\\n9 months ago\\nUtube TV\\nMortal Kombat Legacy - All Episodes (Season 1 & Season 2) Season 1: Ep.1 - Jax Sonya and Kano Part 1 Ep.2 - Jax Sonya and ...\\nMORTAL KOMBAT 11 Full Movie Cinematic (2021) All Cinematics 4K ULTRA HD\\n4.1M views\\n11 months ago\\nGameClips\\nMORTAL KOMBAT 11 Full Movie Cinematic (2021) All Cinematics 4K ULTRA HD New Trailers 2021! Subscribe To Gameclips To ...\\n4K'"
      ]
     },
     "execution_count": 46,
     "metadata": {},
     "output_type": "execute_result"
    }
   ],
   "source": [
    "# from selenium.webdriver.common.by import By\n",
    "# driver.find_elements(By.id(\"contents\"))\n",
    "\n",
    "from selenium.webdriver.common.by import By\n",
    "\n",
    "driver.find_element(By.XPATH, '//*[@id=\"contents\"]').text\n",
    "\n",
    "#driver.find_element_by_xpath(\"/html/body/form[1]\")//*[@id=\"contents\"]\n"
   ]
  },
  {
   "cell_type": "code",
   "execution_count": 52,
   "metadata": {},
   "outputs": [
    {
     "name": "stdout",
     "output_type": "stream",
     "text": [
      "MK11 All Fatalities on RoboCop\n",
      "https://www.youtube.com/watch?v=3ZbUMYT_YZA\n",
      "6.3M views\n",
      "8 months ago\n",
      "MK11 All Fatalities on RoboCop MORTAL KOMBAT 11 MODS ...\n",
      "deathmule\n",
      "https://www.youtube.com/c/deathmule\n",
      "4K\n",
      "\n"
     ]
    },
    {
     "name": "stderr",
     "output_type": "stream",
     "text": [
      "C:\\Users\\Opus\\AppData\\Local\\Programs\\Python\\Python39\\lib\\site-packages\\selenium\\webdriver\\remote\\webelement.py:484: UserWarning: find_element_by_* commands are deprecated. Please use find_element() instead\n",
      "  warnings.warn(\"find_element_by_* commands are deprecated. Please use find_element() instead\")\n"
     ]
    }
   ],
   "source": [
    "for result in driver.find_elements(By.XPATH, '//*[@id=\"contents\"]'):\n",
    "    # print(result.text)\n",
    "    # x = result.text\n",
    "    # print(x.split()[0])\n",
    "    \n",
    "    title = result.find_element_by_css_selector('#video-title > yt-formatted-string').text\n",
    "    link = result.find_element_by_css_selector('#video-title').get_attribute('href')\n",
    "    views = result.find_element_by_css_selector('#metadata-line > span:nth-child(1)').text\n",
    "    date_posted = result.find_element_by_css_selector('#metadata-line > span:nth-child(2)').text\n",
    "    snippet = result.find_element_by_css_selector('#dismissible > div > div.metadata-snippet-container.style-scope.ytd-video-renderer > yt-formatted-string').text\n",
    "    channel_name = result.find_element_by_css_selector('.long-byline').text\n",
    "    channel_link = result.find_element_by_css_selector('#text > a').get_attribute('href')\n",
    "    try:\n",
    "        badges = result.find_element_by_css_selector('#badges').text\n",
    "    except:\n",
    "        badges = None\n",
    "    print(f'{title}\\n{link}\\n{views}\\n{date_posted}\\n{snippet}\\n{channel_name}\\n{channel_link}\\n{badges}\\n')\n"
   ]
  },
  {
   "cell_type": "code",
   "execution_count": null,
   "metadata": {},
   "outputs": [],
   "source": []
  }
 ],
 "metadata": {
  "interpreter": {
   "hash": "a0c73761719d425b2cb215bb8693e11bb404656c658de8c82d215c47a7c086c7"
  },
  "kernelspec": {
   "display_name": "Python 3.9.7 64-bit",
   "language": "python",
   "name": "python3"
  },
  "language_info": {
   "codemirror_mode": {
    "name": "ipython",
    "version": 3
   },
   "file_extension": ".py",
   "mimetype": "text/x-python",
   "name": "python",
   "nbconvert_exporter": "python",
   "pygments_lexer": "ipython3",
   "version": "3.9.7"
  },
  "orig_nbformat": 4
 },
 "nbformat": 4,
 "nbformat_minor": 2
}
